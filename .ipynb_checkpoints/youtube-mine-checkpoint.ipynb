{
 "cells": [
  {
   "cell_type": "code",
   "execution_count": 1,
   "metadata": {
    "pycharm": {
     "name": "#%%\n"
    }
   },
   "outputs": [],
   "source": [
    "from bs4 import BeautifulSoup as bs\n",
    "import codecs\n",
    "import json\n",
    "from urllib.request import urlopen\n",
    "from tqdm import tqdm\n",
    "import re\n",
    "import pandas as pd\n",
    "from datetime import datetime"
   ]
  },
  {
   "cell_type": "code",
   "execution_count": 2,
   "metadata": {
    "pycharm": {
     "name": "#%%\n"
    }
   },
   "outputs": [
    {
     "name": "stderr",
     "output_type": "stream",
     "text": [
      "mining_reviews: 100%|██████████| 2000/2000 [09:28<00:00,  3.52it/s]\n"
     ]
    }
   ],
   "source": [
    "youtube_api_key = \"\"\n",
    "melon_soup = bs(codecs.open(\"tnd.html\", 'r').read(),'html.parser')\n",
    "video_ids = [vid['href'].replace('/watch?v=','') for vid in melon_soup.findAll('a', {'class':'yt-simple-endpoint style-scope ytd-grid-video-renderer'}, href=True)]\n",
    "melon_reviews_raw = [json.loads(urlopen(f\"https://youtube.googleapis.com/youtube/v3/videos?part=snippet%2CcontentDetails%2Cstatistics%2CtopicDetails%2Cid&id={id}&key={youtube_api_key}\").read()) for id in tqdm(video_ids[:2000], desc='mining_reviews')]"
   ]
  },
  {
   "cell_type": "code",
   "execution_count": 3,
   "metadata": {
    "pycharm": {
     "name": "#%%\n"
    }
   },
   "outputs": [
    {
     "ename": "IndexError",
     "evalue": "list index out of range",
     "output_type": "error",
     "traceback": [
      "\u001b[0;31m---------------------------------------------------------------------------\u001b[0m",
      "\u001b[0;31mIndexError\u001b[0m                                Traceback (most recent call last)",
      "\u001b[0;32m/tmp/ipykernel_177049/2536206952.py\u001b[0m in \u001b[0;36m<module>\u001b[0;34m\u001b[0m\n\u001b[1;32m     18\u001b[0m             \u001b[0;32mif\u001b[0m \u001b[0mscore\u001b[0m\u001b[0;34m>\u001b[0m\u001b[0;36m10\u001b[0m \u001b[0;32mor\u001b[0m \u001b[0mscore\u001b[0m\u001b[0;34m<\u001b[0m\u001b[0;36m0\u001b[0m\u001b[0;34m:\u001b[0m \u001b[0mscore\u001b[0m\u001b[0;34m=\u001b[0m\u001b[0;32mNone\u001b[0m\u001b[0;34m\u001b[0m\u001b[0;34m\u001b[0m\u001b[0m\n\u001b[1;32m     19\u001b[0m \u001b[0;34m\u001b[0m\u001b[0m\n\u001b[0;32m---> 20\u001b[0;31m         \u001b[0mgenres\u001b[0m \u001b[0;34m=\u001b[0m \u001b[0;34m[\u001b[0m\u001b[0mp\u001b[0m \u001b[0;32mfor\u001b[0m \u001b[0mp\u001b[0m \u001b[0;32min\u001b[0m \u001b[0morig_desc\u001b[0m\u001b[0;34m.\u001b[0m\u001b[0msplit\u001b[0m\u001b[0;34m(\u001b[0m\u001b[0;34m'\\n\\n'\u001b[0m\u001b[0;34m)\u001b[0m \u001b[0;32mif\u001b[0m \u001b[0;34m' / '\u001b[0m \u001b[0;32min\u001b[0m \u001b[0mp\u001b[0m\u001b[0;34m]\u001b[0m\u001b[0;34m[\u001b[0m\u001b[0;36m0\u001b[0m\u001b[0;34m]\u001b[0m\u001b[0;34m.\u001b[0m\u001b[0msplit\u001b[0m\u001b[0;34m(\u001b[0m\u001b[0;34m' / '\u001b[0m\u001b[0;34m)\u001b[0m\u001b[0;34m[\u001b[0m\u001b[0;34m-\u001b[0m\u001b[0;36m1\u001b[0m\u001b[0;34m]\u001b[0m\u001b[0;34m.\u001b[0m\u001b[0mlower\u001b[0m\u001b[0;34m(\u001b[0m\u001b[0;34m)\u001b[0m\u001b[0;34m.\u001b[0m\u001b[0msplit\u001b[0m\u001b[0;34m(\u001b[0m\u001b[0;34m', '\u001b[0m\u001b[0;34m)\u001b[0m\u001b[0;34m\u001b[0m\u001b[0;34m\u001b[0m\u001b[0m\n\u001b[0m\u001b[1;32m     21\u001b[0m \u001b[0;34m\u001b[0m\u001b[0m\n\u001b[1;32m     22\u001b[0m         melon_reviews.append({\n",
      "\u001b[0;31mIndexError\u001b[0m: list index out of range"
     ]
    }
   ],
   "source": [
    "melon_reviews = []\n",
    "for rev in melon_reviews_raw:\n",
    "    title = rev['items'][0]['snippet']['title']\n",
    "    if 'album review' in title.lower():\n",
    "\n",
    "        orig_desc = rev['items'][0]['snippet']['description']\n",
    "        clean_desc = re.sub(r'http\\S+', '<URL>', orig_desc).replace('==','').replace('\\n',' ').lower()\n",
    "\n",
    "        split_title = title.split('-')\n",
    "        if len(split_title)>=2:\n",
    "            artist,album = split_title[0].strip(),split_title[1].strip()\n",
    "        else:\n",
    "            artist,album = split_title[0],split_title[0]\n",
    "\n",
    "        score = re.compile(r'[0-9]+\\/10').search(orig_desc)\n",
    "        if score:\n",
    "            score = int(score.group(0).split('/')[0])\n",
    "            if score>10 or score<0: score=None\n",
    "\n",
    "        genres = [p for p in orig_desc.split('\\n\\n') if ' / ' in p][0].split(' / ')[-1].lower().split(', ')\n",
    "\n",
    "        melon_reviews.append({\n",
    "            'id':rev['items'][0]['id'],\n",
    "            'artist':artist,\n",
    "            'album':album.replace(' ALBUM REVIEW',''),\n",
    "            'date':rev['items'][0]['snippet']['publishedAt'],\n",
    "            'duration':rev['items'][0]['contentDetails']['duration'],\n",
    "            'description':clean_desc.lower(),\n",
    "            'thumbnail':rev['items'][0]['snippet']['thumbnails']['high']['url'],\n",
    "            # 'tags':set(rev['items'][0]['snippet']['tags']),\n",
    "            'views':rev['items'][0]['statistics']['viewCount'],\n",
    "            'score':score,\n",
    "            'genre':genres\n",
    "        })"
   ]
  },
  {
   "cell_type": "code",
   "execution_count": null,
   "metadata": {
    "pycharm": {
     "name": "#%%\n"
    }
   },
   "outputs": [],
   "source": [
    "import cv2\n",
    "from tensorflow.keras.models import load_model\n",
    "import tensorflow as tf\n",
    "import numpy as np\n",
    "from colorthief import ColorThief\n",
    "from math import sqrt\n",
    "\n",
    "class fashion_tools(object):\n",
    "    def __init__(self,model,version=1.1):\n",
    "        self.model   = model\n",
    "        self.version = version\n",
    "\n",
    "    def get_dress(self,file,stack):\n",
    "        \"\"\"limited to top wear and full body dresses (wild and studio working)\"\"\"\n",
    "        \"\"\"takes input rgb----> return PNG\"\"\"\n",
    "        file = tf.image.resize_with_pad(file,target_height=512,target_width=512)\n",
    "        rgb  = file.numpy()\n",
    "        file = np.expand_dims(file,axis=0)/ 255.\n",
    "        seq = self.model.predict(file)\n",
    "        seq = seq[3][0,:,:,0]\n",
    "        seq = np.expand_dims(seq,axis=-1)\n",
    "        c1x = rgb*seq\n",
    "        c2x = rgb*(1-seq)\n",
    "        cfx = c1x+c2x\n",
    "        dummy = np.ones((rgb.shape[0],rgb.shape[1],1))\n",
    "        rgbx = np.concatenate((rgb,dummy*255),axis=-1)\n",
    "        rgbs = np.concatenate((cfx,seq*255.),axis=-1)\n",
    "        if stack:\n",
    "            stacked = np.hstack((rgbx,rgbs))\n",
    "            return stacked\n",
    "        else:\n",
    "            return rgbs\n",
    "\n",
    "    def get_patch(self):\n",
    "        return None\n",
    "\n",
    "api    = fashion_tools(load_model(\"save_ckp_frozen.h5\"))"
   ]
  },
  {
   "cell_type": "code",
   "execution_count": null,
   "metadata": {
    "pycharm": {
     "name": "#%%\n"
    }
   },
   "outputs": [],
   "source": [
    "def colorSim(rgb1, rgb2):\n",
    "    r, g, b = rgb1\n",
    "    cr, cg, cb = rgb2\n",
    "    d=sqrt((r - cr)**2 + (g - cg)**2 + (b - cb)**2)\n",
    "    return d/sqrt((255)^2+(255)^2+(255)^2)\n",
    "\n",
    "def shirtDetect(rgb1,rgb2):\n",
    "    types = {'yellow_check':((178, 161, 130),(55, 43, 48)),\n",
    "             'red_check':((99, 23, 34), (209, 45, 72)),\n",
    "             'blue_check':((56, 71, 120), (17, 7, 19)),\n",
    "             'white_check':((190, 184, 181), (42, 28, 33))\n",
    "             }\n",
    "    pred = sorted([(k,(colorSim(rgb1,v[0])+colorSim(rgb2,v[1]))/2) for k,v in types.items()],key=lambda x:x[1])[0]\n",
    "    if 'blue' in pred[0] and pred[1]<=3:\n",
    "        return pred[0]\n",
    "    elif pred[1]<=2:\n",
    "        return pred[0]\n",
    "    else:\n",
    "        return 'other'"
   ]
  },
  {
   "cell_type": "code",
   "execution_count": null,
   "metadata": {
    "pycharm": {
     "name": "#%%\n"
    }
   },
   "outputs": [],
   "source": [
    "for rev in tqdm(melon_reviews, desc='shirt_prediction'):\n",
    "    if rev['thumbnail']:\n",
    "        image = np.asarray(bytearray(urlopen(rev['thumbnail']).read()),dtype=np.uint8)\n",
    "        image = cv2.imdecode(image, cv2.IMREAD_COLOR)\n",
    "        isolated_img = api.get_dress(image,False)\n",
    "        cv2.imwrite(\"out.png\",isolated_img)\n",
    "        try:\n",
    "            rgb =  ColorThief(\"out.png\").get_palette(color_count=2, quality=1)\n",
    "        except:\n",
    "            rgb = None\n",
    "            continue\n",
    "        rev['shirt'] =  shirtDetect(rgb[0],rgb[1])\n",
    "    else:\n",
    "        rev['shirt'] = None"
   ]
  },
  {
   "cell_type": "code",
   "execution_count": null,
   "metadata": {
    "pycharm": {
     "name": "#%%\n"
    }
   },
   "outputs": [],
   "source": [
    "melon_df = pd.DataFrame(melon_reviews)"
   ]
  },
  {
   "cell_type": "markdown",
   "metadata": {},
   "source": []
  },
  {
   "cell_type": "code",
   "execution_count": null,
   "metadata": {
    "pycharm": {
     "name": "#%%\n"
    }
   },
   "outputs": [],
   "source": [
    "from matplotlib import pyplot, dates\n",
    "shirt_df = melon_df[['date','score','shirt']].dropna()\n",
    "shirt_df['date2'] = dates.datestr2num(shirt_df['date'])\n",
    "shirt_df['date'] = pd.to_datetime(shirt_df['date'])\n",
    "\n",
    "shirt_df\n",
    "# type(shirt_df['date'][0])"
   ]
  },
  {
   "cell_type": "code",
   "execution_count": null,
   "metadata": {
    "pycharm": {
     "name": "#%%\n"
    }
   },
   "outputs": [],
   "source": [
    "import seaborn as sns\n",
    "\n",
    "g = sns.lmplot(\n",
    "    data=shirt_df,\n",
    "    x=\"date2\", y=\"score\", hue=\"shirt\",\n",
    "    height=5\n",
    ")\n",
    "# g"
   ]
  },
  {
   "cell_type": "markdown",
   "metadata": {},
   "source": []
  }
 ],
 "metadata": {
  "kernelspec": {
   "display_name": "Python 3 (ipykernel)",
   "language": "python",
   "name": "python3"
  },
  "language_info": {
   "codemirror_mode": {
    "name": "ipython",
    "version": 3
   },
   "file_extension": ".py",
   "mimetype": "text/x-python",
   "name": "python",
   "nbconvert_exporter": "python",
   "pygments_lexer": "ipython3",
   "version": "3.8.10"
  }
 },
 "nbformat": 4,
 "nbformat_minor": 1
}
