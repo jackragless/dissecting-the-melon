{
 "cells": [
  {
   "cell_type": "code",
   "execution_count": null,
   "metadata": {
    "pycharm": {
     "name": "#%%\n"
    }
   },
   "outputs": [],
   "source": [
    "from bs4 import BeautifulSoup as bs\n",
    "from urllib.request import urlopen\n",
    "from tqdm import tqdm\n",
    "import re\n",
    "import pandas as pd\n",
    "import json"
   ]
  },
  {
   "cell_type": "code",
   "execution_count": null,
   "metadata": {
    "pycharm": {
     "name": "#%%\n"
    }
   },
   "outputs": [],
   "source": [
    "youtube_api_key = json.load(open('secrets.json'))['youtube_api_key']\n",
    "melon_soup = bs(open(\"tnd\").read(),'html.parser')\n",
    "video_ids = [vid['href'].replace('/watch?v=','') for vid in melon_soup.findAll('a', {'class':'yt-simple-endpoint style-scope ytd-grid-video-renderer'}, href=True)]\n",
    "melon_reviews_raw = [json.loads(urlopen(f\"https://youtube.googleapis.com/youtube/v3/videos?part=snippet%2CcontentDetails%2Cstatistics%2CtopicDetails%2Cid&id={id}&key={youtube_api_key}\").read()) for id in tqdm(video_ids, desc='mining_reviews')]"
   ]
  },
  {
   "cell_type": "code",
   "execution_count": null,
   "metadata": {
    "pycharm": {
     "name": "#%%\n"
    }
   },
   "outputs": [],
   "source": [
    "melon_reviews = []\n",
    "for rev in melon_reviews_raw:\n",
    "    title = rev['items'][0]['snippet']['title']\n",
    "    if 'album review' in title.lower():\n",
    "\n",
    "        orig_desc = rev['items'][0]['snippet']['description']\n",
    "        clean_desc = re.sub(r'http\\S+', '<URL>', orig_desc).replace('==','').replace('\\n',' ').lower()\n",
    "\n",
    "        split_title = title.split('-')\n",
    "        if len(split_title)>=2:\n",
    "            artist,album = split_title[0].strip(),split_title[1].strip()\n",
    "        else:\n",
    "            artist,album = split_title[0],split_title[0]\n",
    "\n",
    "        score = re.compile(r'[0-9]+\\/10').search(orig_desc)\n",
    "        if score:\n",
    "            score = int(score.group(0).split('/')[0])\n",
    "            if score>10 or score<0: score=None\n",
    "\n",
    "        genres = [p for p in orig_desc.split('\\n\\n') if ' / ' in p]\n",
    "        if genres: genres = genres[0].split(' / ')[-1].lower().split(', ')\n",
    "        else: genres = None\n",
    "\n",
    "        melon_reviews.append({\n",
    "            'id':rev['items'][0]['id'],\n",
    "            'artist':artist,\n",
    "            'album':album.replace(' ALBUM REVIEW',''),\n",
    "            'date':rev['items'][0]['snippet']['publishedAt'],\n",
    "            'duration':rev['items'][0]['contentDetails']['duration'],\n",
    "            'description':clean_desc.lower(),\n",
    "            'thumbnail':rev['items'][0]['snippet']['thumbnails']['high']['url'],\n",
    "            'views':rev['items'][0]['statistics'].get('viewCount',None),\n",
    "            'score':score,\n",
    "            'genre':genres\n",
    "        })"
   ]
  },
  {
   "cell_type": "code",
   "execution_count": null,
   "metadata": {
    "pycharm": {
     "name": "#%%\n"
    }
   },
   "outputs": [],
   "source": [
    "melon_df = pd.DataFrame(melon_reviews)\n",
    "melon_df"
   ]
  }
 ],
 "metadata": {
  "kernelspec": {
   "display_name": "Python 3 (ipykernel)",
   "language": "python",
   "name": "python3"
  },
  "language_info": {
   "codemirror_mode": {
    "name": "ipython",
    "version": 3
   },
   "file_extension": ".py",
   "mimetype": "text/x-python",
   "name": "python",
   "nbconvert_exporter": "python",
   "pygments_lexer": "ipython3",
   "version": "3.7.0"
  }
 },
 "nbformat": 4,
 "nbformat_minor": 1
}
